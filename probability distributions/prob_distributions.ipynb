{
 "cells": [
  {
   "cell_type": "code",
   "execution_count": 1,
   "id": "b3248781",
   "metadata": {},
   "outputs": [],
   "source": [
    "import pandas as pd\n",
    "import numpy as np\n",
    "import matplotlib.pyplot as plt"
   ]
  },
  {
   "cell_type": "code",
   "execution_count": 3,
   "id": "9273a181",
   "metadata": {},
   "outputs": [
    {
     "data": {
      "text/plain": [
       "array([0])"
      ]
     },
     "execution_count": 3,
     "metadata": {},
     "output_type": "execute_result"
    }
   ],
   "source": [
    "# flipping 1 coin with 50% chance for heads once\n",
    "from scipy.stats import binom\n",
    "binom.rvs(1,0.5,size=1)"
   ]
  },
  {
   "cell_type": "code",
   "execution_count": 4,
   "id": "36b18bc7",
   "metadata": {},
   "outputs": [
    {
     "data": {
      "text/plain": [
       "array([1, 2, 0, 0, 1, 2, 2, 0, 0, 1])"
      ]
     },
     "execution_count": 4,
     "metadata": {},
     "output_type": "execute_result"
    }
   ],
   "source": [
    "# flipping 2 coin with 50% chance for heads 10 times\n",
    "binom.rvs(2,0.5,size=10)"
   ]
  },
  {
   "cell_type": "code",
   "execution_count": 6,
   "id": "2bf278d0",
   "metadata": {},
   "outputs": [
    {
     "data": {
      "text/plain": [
       "2"
      ]
     },
     "execution_count": 6,
     "metadata": {},
     "output_type": "execute_result"
    }
   ],
   "source": [
    "np.random.binomial(4,0.5)"
   ]
  },
  {
   "cell_type": "code",
   "execution_count": 9,
   "id": "5fc75ad9",
   "metadata": {},
   "outputs": [
    {
     "data": {
      "text/plain": [
       "array([8, 5, 5, 6, 4])"
      ]
     },
     "execution_count": 9,
     "metadata": {},
     "output_type": "execute_result"
    }
   ],
   "source": [
    "# Get a sample from poisson distribution\n",
    "np.random.poisson(6,size=5)"
   ]
  },
  {
   "cell_type": "code",
   "execution_count": null,
   "id": "c4071377",
   "metadata": {},
   "outputs": [],
   "source": [
    "np.random.normal(133, 8, size=10)"
   ]
  },
  {
   "cell_type": "code",
   "execution_count": null,
   "id": "3ff5d91e",
   "metadata": {},
   "outputs": [],
   "source": []
  },
  {
   "cell_type": "code",
   "execution_count": null,
   "id": "64e831ff",
   "metadata": {},
   "outputs": [],
   "source": []
  }
 ],
 "metadata": {
  "kernelspec": {
   "display_name": "Python 3",
   "language": "python",
   "name": "python3"
  },
  "language_info": {
   "codemirror_mode": {
    "name": "ipython",
    "version": 3
   },
   "file_extension": ".py",
   "mimetype": "text/x-python",
   "name": "python",
   "nbconvert_exporter": "python",
   "pygments_lexer": "ipython3",
   "version": "3.8.8"
  }
 },
 "nbformat": 4,
 "nbformat_minor": 5
}
